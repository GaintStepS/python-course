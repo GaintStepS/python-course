{
 "cells": [
  {
   "cell_type": "code",
   "execution_count": 1,
   "metadata": {},
   "outputs": [
    {
     "name": "stdout",
     "output_type": "stream",
     "text": [
      "下载失败，状态码： 404\n"
     ]
    }
   ],
   "source": [
    "import requests\n",
    "\n",
    "# UCI数据集下载链接\n",
    "url = 'https://archive.ics.uci.edu/ml/machine-learning-databases/00294/Folds5x2_pp.xlsx'\n",
    "\n",
    "# 发送GET请求\n",
    "response = requests.get(url)\n",
    "\n",
    "# 检查请求是否成功\n",
    "if response.status_code == 200:\n",
    "    # 将内容写入文件\n",
    "    with open('Folds5x2_pp.xlsx', 'wb') as file:\n",
    "        file.write(response.content)\n",
    "    print(\"数据集下载成功！\")\n",
    "else:\n",
    "    print(\"下载失败，状态码：\", response.status_code)\n"
   ]
  }
 ],
 "metadata": {
  "kernelspec": {
   "display_name": "Python 3",
   "language": "python",
   "name": "python3"
  },
  "language_info": {
   "codemirror_mode": {
    "name": "ipython",
    "version": 3
   },
   "file_extension": ".py",
   "mimetype": "text/x-python",
   "name": "python",
   "nbconvert_exporter": "python",
   "pygments_lexer": "ipython3",
   "version": "3.11.0"
  }
 },
 "nbformat": 4,
 "nbformat_minor": 2
}
